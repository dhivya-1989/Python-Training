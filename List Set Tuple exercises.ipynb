{
 "cells": [
  {
   "cell_type": "code",
   "execution_count": 16,
   "metadata": {
    "scrolled": false
   },
   "outputs": [
    {
     "name": "stdout",
     "output_type": "stream",
     "text": [
      "Enter the values : 34,67,55,33,12,98\n",
      "('34', '67', '55', '33', '12', '98')\n",
      "['34', '67', '55', '33', '12', '98']\n"
     ]
    }
   ],
   "source": [
    "# Exercise - 1- Write a program which accepts a sequence of comma-separated numbers from console and generate a list and a tuple which contains every number.\n",
    "\n",
    "values=input(\"Enter the values : \")\n",
    "ls=values.split(\",\")\n",
    "tu = tuple(ls)\n",
    "print(tu)\n",
    "print(ls)"
   ]
  },
  {
   "cell_type": "code",
   "execution_count": 18,
   "metadata": {
    "scrolled": true
   },
   "outputs": [
    {
     "name": "stdout",
     "output_type": "stream",
     "text": [
      "(1, 2, 3, 4, 5)\n",
      "(6, 7, 8, 9, 10)\n"
     ]
    }
   ],
   "source": [
    "# Exercise - 2- With a given tuple, Write a program to print the first half values in one line and the last half values in one line.\n",
    "\n",
    "tp = (1,2,3,4,5,6,7,8,9,10,11)\n",
    "tp1 = tp[:5]\n",
    "tp2 = tp[5:10]\n",
    "print (tp1)\n",
    "print (tp2)"
   ]
  },
  {
   "cell_type": "code",
   "execution_count": 27,
   "metadata": {},
   "outputs": [
    {
     "name": "stdout",
     "output_type": "stream",
     "text": [
      "(2, 4, 6, 8, 10)\n"
     ]
    }
   ],
   "source": [
    "# Exercise - 3 - Write a program to generate and print another tuple whose values are even numbers in the given tuple\n",
    "\n",
    "c = (1,2,3,4,5,6,7,8,9,10)\n",
    "c1 = c[1:10:2]\n",
    "print(c1)"
   ]
  },
  {
   "cell_type": "code",
   "execution_count": 30,
   "metadata": {},
   "outputs": [
    {
     "data": {
      "text/plain": [
       "[88, 35, 12]"
      ]
     },
     "execution_count": 30,
     "metadata": {},
     "output_type": "execute_result"
    }
   ],
   "source": [
    "# Exercise - 4 -  With two given lists, write a program to make a list, whose elements are intersection of the above given lists.\n",
    "\n",
    "a = [12,3,6,88,35,55]\n",
    "b = [12,24,35,24,88,120,155]\n",
    "list(set(a) & set(b))"
   ]
  },
  {
   "cell_type": "code",
   "execution_count": 39,
   "metadata": {},
   "outputs": [
    {
     "name": "stdout",
     "output_type": "stream",
     "text": [
      "Non-duplicate items:\n",
      "[12, 24, 35, 88, 155, 120]\n"
     ]
    }
   ],
   "source": [
    "# Exercise - 5 -With a given list, write a program to print this list after removing all duplicate values with original order reserved\n",
    "\n",
    "d=[12,24,35,24,88,155,88,120,155]\n",
    "b = set()\n",
    "uni = []\n",
    "for x in d:\n",
    "    if x not in b:\n",
    "        uni.append(x)\n",
    "        b.add(x)\n",
    "print(\"Non-duplicate items:\")\n",
    "print(uni)"
   ]
  }
 ],
 "metadata": {
  "kernelspec": {
   "display_name": "Python 3",
   "language": "python",
   "name": "python3"
  },
  "language_info": {
   "codemirror_mode": {
    "name": "ipython",
    "version": 3
   },
   "file_extension": ".py",
   "mimetype": "text/x-python",
   "name": "python",
   "nbconvert_exporter": "python",
   "pygments_lexer": "ipython3",
   "version": "3.8.3"
  }
 },
 "nbformat": 4,
 "nbformat_minor": 4
}
