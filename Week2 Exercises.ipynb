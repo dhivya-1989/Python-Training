{
 "cells": [
  {
   "cell_type": "code",
   "execution_count": 2,
   "metadata": {},
   "outputs": [
    {
     "name": "stdout",
     "output_type": "stream",
     "text": [
      "Chennai 84.2\n",
      "Bangalore 96.8\n",
      "Hyderabad 66.2\n",
      "Delhi 75.2\n",
      "Mumbai 89.6\n"
     ]
    }
   ],
   "source": [
    "# convert celsius to fahrenheit\n",
    "\n",
    "f_data={'Chennai':29, 'Bangalore':36, 'Hyderabad':19,'Delhi':24,'Mumbai':32}\n",
    "for i in f_data.items():\n",
    "    print(i[0], (9/5)*i[1]+32)"
   ]
  },
  {
   "cell_type": "code",
   "execution_count": 3,
   "metadata": {},
   "outputs": [
    {
     "name": "stdout",
     "output_type": "stream",
     "text": [
      "[('Chennai', 84.2), ('Bangalore', 96.8), ('Hyderabad', 66.2), ('Delhi', 75.2), ('Mumbai', 89.6)]\n"
     ]
    }
   ],
   "source": [
    "print(list(map(lambda data : (data[0],(9/5)*data[1]+32), f_data.items())))"
   ]
  },
  {
   "cell_type": "code",
   "execution_count": 5,
   "metadata": {},
   "outputs": [
    {
     "name": "stdout",
     "output_type": "stream",
     "text": [
      "{'Chennai': 84.2, 'Bangalore': 96.8, 'Hyderabad': 66.2, 'Delhi': 75.2, 'Mumbai': 89.6}\n"
     ]
    }
   ],
   "source": [
    "print(dict(map(lambda data : (data[0],(9/5)*data[1]+32), f_data.items())))"
   ]
  },
  {
   "cell_type": "code",
   "execution_count": 15,
   "metadata": {},
   "outputs": [
    {
     "name": "stdout",
     "output_type": "stream",
     "text": [
      "{'June': 110, 'August': 220, 'May': 330, 'December': 440, 'March': 550}\n"
     ]
    }
   ],
   "source": [
    "# join 2 dict\n",
    "\n",
    "dict1={'June': 110,'August':220,'May':330}\n",
    "dict2={'May':330,'December':440,'March':550}\n",
    "\n",
    "dict1.update(dict2)\n",
    "print(dict1)"
   ]
  },
  {
   "cell_type": "code",
   "execution_count": 19,
   "metadata": {},
   "outputs": [
    {
     "name": "stdout",
     "output_type": "stream",
     "text": [
      "{'June': 110, 'August': 220, 'May': 330, 'December': 440, 'March': 550}\n"
     ]
    }
   ],
   "source": [
    "def merge(dict1,dict2):\n",
    "    return (dict1.update(dict2))\n",
    "print(dict1)"
   ]
  },
  {
   "cell_type": "code",
   "execution_count": null,
   "metadata": {},
   "outputs": [],
   "source": [
    "# Sort list of tuples using Lambda\n",
    "\n",
    "tuple1 = "
   ]
  }
 ],
 "metadata": {
  "kernelspec": {
   "display_name": "Python 3",
   "language": "python",
   "name": "python3"
  },
  "language_info": {
   "codemirror_mode": {
    "name": "ipython",
    "version": 3
   },
   "file_extension": ".py",
   "mimetype": "text/x-python",
   "name": "python",
   "nbconvert_exporter": "python",
   "pygments_lexer": "ipython3",
   "version": "3.8.3"
  }
 },
 "nbformat": 4,
 "nbformat_minor": 4
}
